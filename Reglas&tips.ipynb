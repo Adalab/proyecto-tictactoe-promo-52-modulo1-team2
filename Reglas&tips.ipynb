{
 "cells": [
  {
   "cell_type": "markdown",
   "metadata": {},
   "source": [
    "# Tic Tac Toe\n",
    "\n",
    "- Reglas del Juego \"Tic-Tac-Toe\":\n",
    "\n",
    "    - El juego se juega en un tablero de 3x3.\n",
    "\n",
    "    - Dos jugadores, uno representa \"X\" y el otro \"O\", alternan turnos.\n",
    "\n",
    "    - El objetivo es obtener tres símbolos del mismo tipo en línea horizontal, vertical o diagonal.\n",
    "\n",
    "    - El juego termina cuando un jugador gana o el tablero se llena (empate).\n",
    "\n",
    "    - El jugador que logre colocar tres de sus símbolos en línea es el ganador.\n",
    "\n",
    "\n",
    "- Pistas para las alumnas:\n",
    "\n",
    "    1. Comienza creando una representación del tablero de juego utilizando una lista de listas para mantener un seguimiento de las jugadas.\n",
    "\n",
    "    2. Implementa una función para imprimir el tablero en la pantalla en un formato claro y legible.\n",
    "\n",
    "    3. Utiliza un bucle `while` para alternar los turnos de los jugadores y recopilar sus movimientos.\n",
    "\n",
    "    4. Verifica después de cada movimiento si hay un ganador o si el juego termina en empate.\n",
    "\n",
    "    5. Implementa una función que verifique si un jugador ha ganado alineando tres símbolos en fila, columna o diagonal.\n",
    "\n",
    "    6. Asegurate de validar que una casilla seleccionada por un jugador no esté ocupada antes de permitir el movimiento.\n"
   ]
  },
  {
   "cell_type": "markdown",
   "metadata": {},
   "source": []
  }
 ],
 "metadata": {
  "kernelspec": {
   "display_name": "base",
   "language": "python",
   "name": "python3"
  },
  "language_info": {
   "name": "python",
   "version": "3.12.7"
  },
  "orig_nbformat": 4
 },
 "nbformat": 4,
 "nbformat_minor": 2
}
