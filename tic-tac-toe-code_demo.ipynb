{
 "cells": [
  {
   "cell_type": "markdown",
   "id": "6c83a46c",
   "metadata": {},
   "source": [
    "# DINÁMICA DEL JUEGO - ESTRUCTURA DE CÓDIGO\n",
    "\n",
    "1. Se definen las casillas del tablero.\n",
    "\n",
    "2. Asignación de jugadoras con las fichas.\n",
    "\n",
    "3. Se define una lista para las fichas de cada jugadora.\n",
    "\n",
    "4. Se define un bucle para agrupar las acciones que se hacen en cada turno de juego. \n",
    "\n",
    "    4.1. La jugadora a la que le toque elige una casilla.\n",
    "\n",
    "        4.1.1 Comprobación de la casilla escogida respecto a escritura y si existe en las opciones del tablero. \n",
    "    \n",
    "    4.2. Se elimina la casilla escogida para que no esté disponible en futuros turnos. \n",
    "    \n",
    "    4.3. Se añade la casilla escogida a la lista de casillas de la jugadora.\n",
    "\n",
    "    4.4. Se define la función para comprobar el resultado del juego y ver si la jugadora ha ganado.\n",
    "       \n",
    "        4.4.1 Si la jugadora consigue hacer 3 en raya y gana. Para la comprobación de raya horizontal y vertical se crean unas listas con las fichas de cada jugadora pero que tengan las \n",
    "       \n",
    "        4.4.2 Si la jugadora no consigue hacer 3 en raya en su turno, la contrincante comienza su turno de juego.\n",
    "       \n",
    "        4.4.3 Si se llena el tablero y ninguna ha hecho 3 en raya, habrá un empate y se pide reiniciar el juego.\n",
    "\n"
   ]
  },
  {
   "cell_type": "markdown",
   "id": "2e846b63",
   "metadata": {},
   "source": [
    "# FUNCIONES PARA EL DESARROLLO DEL JUEGO"
   ]
  },
  {
   "cell_type": "code",
   "execution_count": null,
   "id": "20ffb9a5",
   "metadata": {},
   "outputs": [],
   "source": [
    "# Esta función realiza la comprobación de la casilla escogida respecto a escritura y respecto a si existe en las opciones disponibles del tablero. \n",
    "def comprobacion_casilla(casilla_elegida, tablero,jugadora): \n",
    "    while casilla_elegida not in tablero:\n",
    "        casilla_elegida = (input(f\"¡Ups! '{casilla_elegida}' no es correcta. Tal vez no esté bien escrita o puede que ya se haya elegido anteriormente. Las casillas que puedes elegir son: {', '.join(tablero)}. Inténtalo de nuevo\"))\n",
    "    else:\n",
    "        print(f\"¡Bien jugado, {jugadora}! Has elegido la casilla '{casilla_elegida}'\")\n",
    "        return casilla_elegida\n",
    "\n",
    "\n",
    "# Esta es una función intermedia, necesaria para poder determinar el resultado (si existe una ganadora o no) en los casos de raya horizontal y vertical.\n",
    "def separar(fichas, fichas_separadas): \n",
    "        for ficha in fichas:\n",
    "            for caracter in ficha:\n",
    "                fichas_separadas.append(caracter)\n",
    "        # print(fichas_separadas) # Se pueden imprimir las listas de casillas separadas para comprobar que se han añadido correctamente, ya que esto es de lo más conflictivo del código.\n",
    "        return fichas_separadas\n",
    "\n",
    "\n",
    "# Esta función comprueba si las jugadoras consiguen hacer 3 en raya y ganar.\n",
    "def resultado(fichas, fichas_separadas): \n",
    "              \n",
    "    if fichas_separadas.count(\"a\") == 3 or fichas_separadas.count(\"b\") == 3 or fichas_separadas.count(\"c\") == 3: \n",
    "        print(\"¡¡Enhorabuena!! Has hecho tres en raya en horizontal\") \n",
    "        return True\n",
    "                    \n",
    "    elif fichas_separadas.count(\"1\") == 3 or fichas_separadas.count(\"2\") == 3 or fichas_separadas.count(\"3\") == 3:\n",
    "        print(\"¡¡Enhorabuena!! Has hecho tres en raya en vertical\")\n",
    "        return True\n",
    "        \n",
    "    elif \"a1\" in fichas and \"b2\" in fichas and \"c3\" in fichas or \"c1\" in fichas and \"b2\" in fichas and \"a3\" in fichas: # Esta comprobación diagonal no es escalable si el tablero creciera. Para que lo fuera, habría que buscar una comprobación que indicara que las letras y números de las casillas son correlativas.\n",
    "        print(\"¡¡Enhorabuena!! Has hecho tres en raya en diagonal\")\n",
    "        return True\n",
    "        \n",
    "    elif len(fichas) == 5:\n",
    "        print (\"Ha sido muy emocionante, habéis empatado\") # Si se llena el tablero y ninguna ha hecho 3 en raya, habrá un empate y se pide reiniciar el juego.\n",
    "        return True\n",
    "        \n",
    "    else: # Si la jugadora no consigue hacer 3 en raya en su turno, la contrincante comienza su turno de juego.\n",
    "        return False   "
   ]
  },
  {
   "cell_type": "code",
   "execution_count": null,
   "id": "1202d37b",
   "metadata": {},
   "outputs": [],
   "source": [
    "# Se definen las casillas/posiciones del tablero\n",
    "tablero = [\"a1\",\"a2\",\"a3\", \"b1\",\"b2\",\"b3\", \"c1\",\"c2\",\"c3\"]\n",
    "\n",
    "# Esta función se encarga de gestionar el turno de cada jugadora, pidiendo la casilla, añadiéndola a la lista de fichas y quitándola de las casillas disponibles.\n",
    "def turno(jugadora,fichas): \n",
    "    casilla=comprobacion_casilla((input(f\"{jugadora}, elige en qué casilla quieres poner tu ficha. Las opciones son {tablero}\").lower().strip()),tablero,jugadora)\n",
    "    tablero.remove(casilla)\n",
    "    fichas.append(casilla)\n",
    "    #print(f\"Tus fichas se encuentran en estas casillas: {fichas}\")\n",
    "    #print(f\"Ahora las casillas que quedan libres son {tablero}\")\n",
    "\n",
    "\n",
    "    "
   ]
  },
  {
   "cell_type": "code",
   "execution_count": null,
   "id": "9cc27577",
   "metadata": {},
   "outputs": [],
   "source": [
    "# Cada vez que se juega un turno, se comprueba si la jugadora ha ganado o no. \n",
    "def comprobarGanadora(fichas):\n",
    "    fichas_separadas = []\n",
    "    separar(fichas,fichas_separadas)\n",
    "    if resultado(fichas,fichas_separadas) == True:\n",
    "        tablero =[\"a1\",\"a2\",\"a3\", \"b1\",\"b2\",\"b3\", \"c1\",\"c2\",\"c3\"]\n",
    "        print(\"¿Quieres volver a jugar?\") # Se podría añadir una función de marcador de puntos y ofrecer la opción de reiniciar el juego o no con un input.\n",
    "        return True\n",
    "    else:\n",
    "        return False"
   ]
  },
  {
   "cell_type": "markdown",
   "id": "08e8802a",
   "metadata": {},
   "source": [
    "# INICIO DEL JUEGO"
   ]
  },
  {
   "cell_type": "code",
   "execution_count": null,
   "id": "72c1c95b",
   "metadata": {},
   "outputs": [],
   "source": [
    "# Asignación de jugadoras con las fichas\n",
    "\n",
    "jugadora_x = input(\"Tus fichas tienen forma de cruz. ¿Cómo te llamas?\").upper()\n",
    "jugadora_o = input(\"Tus fichas tienen forma de círculo. ¿Cómo te llamas?\").upper()\n",
    "\n",
    "print(f\"{jugadora_x} juega con fichas de cruz y {jugadora_o} juega con fichas de círculo\") \n"
   ]
  },
  {
   "cell_type": "code",
   "execution_count": null,
   "id": "03b8f11e",
   "metadata": {},
   "outputs": [],
   "source": [
    "# Celda que se ejecuta en cada ronda.\n",
    "\n",
    "tablero =[\"a1\",\"a2\",\"a3\", \"b1\",\"b2\",\"b3\", \"c1\",\"c2\",\"c3\"] # Se reinicia el tablero cada vez que se vuelve a jugar.\n",
    "\n",
    "# Se inicia la ronda con la lista de fichas de cada jugadora vacía.\n",
    "fichas_x= [] \n",
    "fichas_o = []\n",
    "fichas_separadas_o = []\n",
    "fichas_separadas_x = []\n",
    "\n",
    "# Se establece un contador para que el juego no se quede en bucle infinito. El bucle se ejecuta 5 veces, pero si hay una ganadora antes de que se acaben las jugadas, el juego termina.\n",
    "contador=0\n",
    "while contador<5:\n",
    "    turno(jugadora_x, fichas_x)\n",
    "    contador += 1\n",
    "    if comprobarGanadora(fichas_x) == True: \n",
    "        break\n",
    "    else:\n",
    "        turno(jugadora_o, fichas_o)\n",
    "        if comprobarGanadora(fichas_o) == True: \n",
    "            break\n",
    "\n"
   ]
  }
 ],
 "metadata": {
  "kernelspec": {
   "display_name": "base",
   "language": "python",
   "name": "python3"
  },
  "language_info": {
   "codemirror_mode": {
    "name": "ipython",
    "version": 3
   },
   "file_extension": ".py",
   "mimetype": "text/x-python",
   "name": "python",
   "nbconvert_exporter": "python",
   "pygments_lexer": "ipython3",
   "version": "3.12.7"
  }
 },
 "nbformat": 4,
 "nbformat_minor": 5
}
