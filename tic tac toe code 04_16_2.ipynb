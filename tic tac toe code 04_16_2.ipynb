{
 "cells": [
  {
   "cell_type": "markdown",
   "id": "6c83a46c",
   "metadata": {},
   "source": [
    "## Dinámica de Juego \n",
    "\n",
    "1. Se definen las casillas del tablero \n",
    "\n",
    "2. Asignación de jugadoras con las fichas\n",
    "\n",
    "3. Se define una lista para las fichas de cada jugadora\n",
    "\n",
    "4. Se define un bucle para agrupar las acciones que se hacen en cada turno de juego. \n",
    "\n",
    "    4.1. La jugadora a la que le toque elige una casilla.\n",
    "\n",
    "        4.1.1 Comprobación de la casilla escogida respecto a escritura y si existe en las opciones del tablero. \n",
    "    \n",
    "    4.2. Se elimina la casilla escogida para que no esté disponible en futuros turnos. \n",
    "    \n",
    "    4.3. Se añade la casilla escogida a la lista de casillas de la jugadora.\n",
    "\n",
    "    4.4. Se define la función para comprobar el resultado del juego y ver si la jugadora ha ganado.\n",
    "       \n",
    "        4.4.1 Si la jugadora consigue hacer 3 en raya y gana.\n",
    "       \n",
    "        4.4.2 Si la jugadora no consigue hacer 3 en raya en su turno, la contrincante comienza su turno de juego.\n",
    "       \n",
    "        4.4.3 Si se llena el tablero y ninguna ha hecho 3 en raya, habrá un empate y se pide reiniciar el juego.\n",
    "\n",
    "5. (Se define la función de contador para que se indique si se quiere volver a jugar o no)"
   ]
  },
  {
   "cell_type": "code",
   "execution_count": 9,
   "id": "20ffb9a5",
   "metadata": {},
   "outputs": [],
   "source": [
    "def comprobacion_casilla(casilla_elegida, tablero,jugadora): # 4.1.1 Comprobación de la casilla escogida respecto a escritura y si existe en las opciones del tablero. \n",
    "    while casilla_elegida not in tablero:\n",
    "        casilla_elegida = (input(f\"¡Ups! '{casilla_elegida}' no es correcta. Tal vez no esté bien escrita o puede que ya se haya elegido anteriormente. Las casillas que puedes elegir son: {', '.join(tablero)}. Inténtalo de nuevo\"))\n",
    "    else:\n",
    "        print(f\"¡Bien jugado, {jugadora}! Has elegido la casilla '{casilla_elegida}'\")\n",
    "        return casilla_elegida\n",
    "\n",
    "def separar(fichas, fichas_separadas): # Para la siguiente función 4.4.1. primero necesitamos separar los nombres de las casillas\n",
    "        for ficha in fichas:\n",
    "            for caracter in ficha:\n",
    "                fichas_separadas.append(caracter)\n",
    "        print(fichas_separadas)\n",
    "        return fichas_separadas\n",
    "\n",
    "def resultado(fichas, fichas_separadas): # 4.4.1 Si la jugadora consigue hacer 3 en raya y gana.\n",
    "              \n",
    "    if fichas_separadas.count(\"a\") == 3 or fichas_separadas.count(\"b\") == 3 or fichas_separadas.count(\"c\") == 3: \n",
    "        print(\"¡¡Enhorabuena!! Has hecho tres en raya en horizontal\") \n",
    "        return True\n",
    "                    \n",
    "    elif fichas_separadas.count(\"1\") == 3 or fichas_separadas.count(\"2\") == 3 or fichas_separadas.count(\"3\") == 3:\n",
    "        print(\"¡¡Enhorabuena!! Has hecho tres en raya en vertical\")\n",
    "        return True\n",
    "        \n",
    "    elif \"a1\" in fichas and \"b2\" in fichas and \"c3\" in fichas or \"c1\" in fichas and \"b2\" in fichas and \"a3\" in fichas:\n",
    "        print(\"¡¡Enhorabuena!! Has hecho tres en raya en diagonal\")\n",
    "        return True\n",
    "        \n",
    "    elif len(fichas) == 5:\n",
    "        print (\"Ha sido muy emocionante, habéis empatado\") # 4.4.3 Si se llena el tablero y ninguna ha hecho 3 en raya, habrá un empate y se pide reiniciar el juego.\n",
    "        return True\n",
    "        \n",
    "    else: #  4.4.2 Si la jugadora no consigue hacer 3 en raya en su turno, la contrincante comienza su turno de juego.\n",
    "        return False   "
   ]
  },
  {
   "cell_type": "code",
   "execution_count": 4,
   "id": "20626cd7",
   "metadata": {},
   "outputs": [
    {
     "name": "stdout",
     "output_type": "stream",
     "text": [
      "El marcador está así: A: 0 puntos y B: 0 puntos\n",
      "¡Qué emocionante! Esta ronda ha terminado con un empate, bien jugado \n",
      "¡Hasta la próxima!\n"
     ]
    }
   ],
   "source": [
    "# 5. (Se define la función de contador para que se indique si se quiere volver a jugar o no)\n",
    "\n",
    "puntos_x = 0\n",
    "puntos_o = 0\n",
    "\n",
    "def actualizar_marcador(fichas, fichas_separadas,puntos):\n",
    "    if resultado(fichas, fichas_separadas) == True:\n",
    "        puntos += 1\n",
    "        print(\"¡Tienes un punto más por haber ganado la partida!\")\n",
    "\n",
    "print(f\"El marcador está así: {jugadora_x}: {puntos_x} puntos y {jugadora_o}: {puntos_o} puntos\")\n",
    "propuesta_x = input(f\"{jugadora_x}, ¿quieres volver a jugar otra partida? \\nPara jugar otra partida, escribe `repetimos` \\nO para terminar el juego, escribe `salir\")\n",
    "propuesta_o = input(f\"{jugadora_o}, ¿quieres volver a jugar otra partida? \\nPara jugar otra partida, escribe `repetimos` \\nO para terminar el juego, escribe `salir\")\n",
    "if propuesta_x == \"repetimos\" and propuesta_o == \"repetimos\":\n",
    "    print(\"¡Vamos a jugar otra vez!\")\n",
    "else: \n",
    "    if puntos_x > puntos_o:\n",
    "        print(f\"{jugadora_x} ha ganado esta ronda \\n¡Hasta la próxima!\")\n",
    "    elif puntos_x < puntos_o:\n",
    "        print(f\"{jugadora_o} ha ganado esta ronda \\n¡Hasta la próxima!\")\n",
    "    elif puntos_x == puntos_o:\n",
    "        print(f\"¡Qué emocionante! Esta ronda ha terminado con un empate, bien jugado \\n¡Hasta la próxima!\")\n",
    "    else:\n",
    "        exit\n",
    "    \n"
   ]
  },
  {
   "cell_type": "code",
   "execution_count": 7,
   "id": "1202d37b",
   "metadata": {},
   "outputs": [],
   "source": [
    "fichas_x= []\n",
    "fichas_o = []\n",
    "\n",
    "fichas_separadas_o = []\n",
    "fichas_separadas_x = []\n",
    "\n",
    "tablero = [\"a1\",\"a2\",\"a3\", \"b1\",\"b2\",\"b3\", \"c1\",\"c2\",\"c3\"]\n",
    "\n",
    "def turno(jugadora,fichas): \n",
    "    casilla=comprobacion_casilla((input(f\"{jugadora}, elige en qué casilla quieres poner tu ficha. Las opciones son {tablero}\").lower().strip()),tablero,jugadora)\n",
    "    tablero.remove(casilla)\n",
    "    fichas.append(casilla)\n",
    "    #print(f\"Tus fichas se encuentran en estas casillas: {fichas}\")\n",
    "    #print(f\"Ahora las casillas que quedan libres son {tablero}\")\n",
    "\n",
    "\n",
    "    "
   ]
  },
  {
   "cell_type": "code",
   "execution_count": 11,
   "id": "9cc27577",
   "metadata": {},
   "outputs": [],
   "source": [
    "def comprobarGanadora(fichas):\n",
    "    fichas_separadas = []\n",
    "    separar(fichas,fichas_separadas)\n",
    "    if resultado(fichas,fichas_separadas) == True:\n",
    "        tablero =[\"a1\",\"a2\",\"a3\", \"b1\",\"b2\",\"b3\", \"c1\",\"c2\",\"c3\"]\n",
    "        print(\"Hemos ganado prueba\")\n",
    "        print(\"¿Quieres volver a jugar?\")\n",
    "        return True\n",
    "    else:\n",
    "        return False"
   ]
  },
  {
   "cell_type": "code",
   "execution_count": 5,
   "id": "72c1c95b",
   "metadata": {},
   "outputs": [
    {
     "name": "stdout",
     "output_type": "stream",
     "text": [
      " juega con fichas de cruz y B juega con fichas de círculo\n"
     ]
    }
   ],
   "source": [
    "#1. Se definen las casillas/posiciones del tablero\n",
    "\n",
    "tablero =[\"a1\",\"a2\",\"a3\", \"b1\",\"b2\",\"b3\", \"c1\",\"c2\",\"c3\"]\n",
    "\n",
    "#2. Asignacion de jugadoras con las fichas\n",
    "\n",
    "jugadora_x = input(\"Tus fichas tienen forma de cruz. ¿Cómo te llamas?\").upper()\n",
    "jugadora_o = input(\"Tus fichas tienen forma de círculo. ¿Cómo te llamas?\").upper()\n",
    "\n",
    "print(f\"{jugadora_x} juega con fichas de cruz y {jugadora_o} juega con fichas de círculo\") #Compruebo los valores\n",
    "\n",
    "#3. Se define un diccionario para las fichas de cada jugadora\n",
    "#casillas_x = {\"x1\":1, \"x2\":2, \"x3\":3, \"x4\":4, \"x5\":5}\n",
    "#casillas_o = {\"o1\":10, \"o2\":20, \"o3\":30, \"o4\":40, \"o5\":50}"
   ]
  },
  {
   "cell_type": "code",
   "execution_count": null,
   "id": "03b8f11e",
   "metadata": {},
   "outputs": [
    {
     "name": "stdout",
     "output_type": "stream",
     "text": [
      "¡Bien jugado, ! Has elegido la casilla 'b2'\n",
      "['a', '1', 'b', '2']\n",
      "¡Bien jugado, B! Has elegido la casilla 'c1'\n",
      "['c', '1']\n",
      "¡Bien jugado, ! Has elegido la casilla 'a3'\n",
      "['a', '1', 'b', '2', 'a', '3']\n",
      "¡Bien jugado, B! Has elegido la casilla 'c2'\n",
      "['c', '1', 'c', '2']\n",
      "¡Bien jugado, ! Has elegido la casilla 'b3'\n",
      "['a', '1', 'b', '2', 'a', '3', 'b', '3']\n",
      "¡Bien jugado, B! Has elegido la casilla 'c3'\n",
      "['c', '1', 'c', '2', 'c', '3']\n",
      "¡¡Enhorabuena!! Has hecho tres en raya en horizontal\n",
      "Hemos ganado prueba\n",
      "¿Quieres volver a jugar?\n"
     ]
    }
   ],
   "source": [
    "contador=0\n",
    "while contador<5:\n",
    "    turno(jugadora_x, fichas_x)\n",
    "    contador += 1\n",
    "    if comprobarGanadora(fichas_x) == True: \n",
    "        break\n",
    "    else:\n",
    "        turno(jugadora_o, fichas_o)\n",
    "        if comprobarGanadora(fichas_o) == True: \n",
    "            break\n",
    "\n"
   ]
  }
 ],
 "metadata": {
  "kernelspec": {
   "display_name": "base",
   "language": "python",
   "name": "python3"
  },
  "language_info": {
   "codemirror_mode": {
    "name": "ipython",
    "version": 3
   },
   "file_extension": ".py",
   "mimetype": "text/x-python",
   "name": "python",
   "nbconvert_exporter": "python",
   "pygments_lexer": "ipython3",
   "version": "3.9.7"
  }
 },
 "nbformat": 4,
 "nbformat_minor": 5
}
