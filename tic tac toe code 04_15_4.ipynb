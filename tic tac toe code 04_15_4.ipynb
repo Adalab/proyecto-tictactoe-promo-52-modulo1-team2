{
 "cells": [
  {
   "cell_type": "markdown",
   "id": "6c83a46c",
   "metadata": {},
   "source": [
    "## Dinámica de Juego \n",
    "\n",
    "1. Se definen las casillas del tablero \n",
    "\n",
    "2. Asignación de jugadoras con las fichas\n",
    "\n",
    "3. Se define un diccionario para las fichas de cada jugadora\n",
    "\n",
    "4. Se define la función para agrupar las acciones que se hacen en cada turno de juego. \n",
    "\n",
    "    4.1. La jugadora a la que le toque elige una casilla.\n",
    "\n",
    "        4.1.1 Comprobación de la casilla escogida respecto a escritura y si existe en las opciones del tablero. \n",
    "    \n",
    "    4.2. Se elimina la casilla escogida para que no esté disponible en futuros turnos. \n",
    "    \n",
    "    4.3. Se añade la casilla escogida al diccionario de casillas de la jugadora.\n",
    "\n",
    "    4.4. Se define la función para comprobar el resultado del juego y ver si la jugadora ha ganado.\n",
    "       \n",
    "        4.4.1 Si la jugadora consigue hacer 3 en raya y gana.\n",
    "       \n",
    "        4.4.2 Si la jugadora no consigue hacer 3 en raya en su turno, la contrincante comienza su turno de juego.\n",
    "       \n",
    "        4.4.3 Si se llena el tablero y ninguna ha hecho 3 en raya, habrá un empate y se pide reiniciar el juego.\n",
    "\n",
    "5. (Se define la función de contador para que se indique si se quiere volver a jugar o no)"
   ]
  },
  {
   "cell_type": "code",
   "execution_count": null,
   "id": "89748bb7",
   "metadata": {},
   "outputs": [],
   "source": [
    "#1. Se definen las casillas/posiciones del tablero\n",
    "\n",
    "tablero =[\"a1\",\"a2\",\"a3\", \"b1\",\"b2\",\"b3\", \"c1\",\"c2\",\"c3\"]\n",
    "\n",
    "#2. Asignacion de jugadoras con las fichas\n",
    "\n",
    "jugadora_x = input(\"Tus fichas tienen forma de cruz. ¿Cómo te llamas?\")\n",
    "jugadora_o = input(\"Tus fichas tienen forma de círculo. ¿Cómo te llamas?\")\n",
    "\n",
    "print(f\"{jugadora_x} juega con fichas de cruz y {jugadora_o} juega con fichas de círculo\") #Compruebo los valores\n",
    "\n",
    "#3. Se define un diccionario para las fichas de cada jugadora\n",
    "fichas_x = {}\n",
    "fichas_o = {}\n",
    "#casillas_x = {\"x1\":1, \"x2\":2, \"x3\":3, \"x4\":4, \"x5\":5}\n",
    "#casillas_o = {\"o1\":10, \"o2\":20, \"o3\":30, \"o4\":40, \"o5\":50}\n",
    "\n",
    "print(f\"Las casillas con cruces son: {fichas_x}\")\n",
    "print(f\"Las casillas con círculos son: {fichas_o}\")\n",
    "\n"
   ]
  },
  {
   "cell_type": "code",
   "execution_count": null,
   "id": "20ffb9a5",
   "metadata": {},
   "outputs": [],
   "source": [
    "#4. Definimos la función para agrupar las acciones que se hacen en cada JUGADA\n",
    "\n",
    "def comprobacion_casilla(casilla_que_elijo, tablero): # 4.1.1 Comprobación de la casilla escogida respecto a escritura y si existe en las opciones del tablero. \n",
    "    while casilla_que_elijo not in tablero:\n",
    "        casilla_que_elijo = (input(f\"¡Ups! La casilla que has elegido no es correcta. Tal vez no esté bien escrita o puede que ya se haya elegido anteriormente. Las casillas que puedes elegir son: {', '.join(tablero)}. Inténtalo de nuevo\"))\n",
    "    else:\n",
    "        print(f\"Has elegido la casilla {casilla_que_elijo}\")\n",
    "        return casilla_que_elijo\n",
    "\n",
    "def separar(fichas):\n",
    "    while True:\n",
    "        for i in fichas:\n",
    "            casilla_separada = list(i)\n",
    "            fichas.remove(i)\n",
    "            fichas.append(casilla_separada)            \n",
    "        return fichas\n",
    "\n",
    "def resultado(fichas): # 4.4.1 Si la jugadora consigue hacer 3 en raya y gana.\n",
    "    \n",
    "    separar(fichas)\n",
    "        \n",
    "    if fichas.count(\"a\") == 3 or fichas.count(\"b\") == 3 or fichas.count(\"c\") == 3: \n",
    "        print(\"¡¡Enhorabuena!! Has hecho tres en raya en horizontal\") \n",
    "        return True\n",
    "                    \n",
    "    elif fichas.count(\"1\") == 3 or fichas.count(\"2\") == 3 or fichas.count(\"3\") == 3:\n",
    "        print(\"¡¡Enhorabuena!! Has hecho tres en raya en vertical\")\n",
    "        return True\n",
    "        \n",
    "    elif \"a1\" in fichas and \"b2\" in fichas and \"c3\" in fichas or \"c1\" in fichas and \"b2\" in fichas and \"a3\" in fichas:\n",
    "        print(\"¡¡Enhorabuena!! Has hecho tres en raya en diagonal\")\n",
    "        return True\n",
    "        \n",
    "    elif len(fichas) == 5:\n",
    "        print (\"Ha sido muy emocionante, habéis empatado\") # 4.4.3 Si se llena el tablero y ninguna ha hecho 3 en raya, habrá un empate y se pide reiniciar el juego.\n",
    "        return True\n",
    "        \n",
    "    else: #  4.4.2 Si la jugadora no consigue hacer 3 en raya en su turno, la contrincante comienza su turno de juego.\n",
    "        print(\"No hay ninguna combinación ganadora\")\n",
    "        return False   "
   ]
  },
  {
   "cell_type": "code",
   "execution_count": null,
   "id": "20626cd7",
   "metadata": {},
   "outputs": [],
   "source": [
    "marcador = [puntos_x, puntos_o]\n",
    "puntos_x = 0\n",
    "puntos_o = 0\n",
    "\n",
    "def actualizar_marcador():\n",
    "    if resultado(casillas_x) == True:\n",
    "        puntos_x += 1\n",
    "        print(f\"El marcador es: {puntos_x} - {puntos_o}\")\n",
    "    elif resultado(casillas_o) == True:\n",
    "        puntos_o += 1\n",
    "        print(f\"El marcador es: {puntos_x} - {puntos_o}\")\n",
    "    else:\n",
    "        print(f\"El marcador es: {puntos_x} - {puntos_o}\")\n",
    "    \n"
   ]
  },
  {
   "cell_type": "code",
   "execution_count": null,
   "id": "9501e466",
   "metadata": {},
   "outputs": [],
   "source": [
    "def propuesta (propuesta):\n",
    "    while True:\n",
    "        if propuesta == \"salir\":\n",
    "            print(\"Gracias por jugar, ¡hasta la próxima!\")\n",
    "            break\n",
    "        else:\n",
    "            print(\"¡Genial! Vamos a jugar otra vez.\")\n",
    "            continue"
   ]
  },
  {
   "cell_type": "code",
   "execution_count": null,
   "id": "4c589da6",
   "metadata": {},
   "outputs": [
    {
     "ename": "KeyboardInterrupt",
     "evalue": "",
     "output_type": "error",
     "traceback": [
      "\u001b[1;31m---------------------------------------------------------------------------\u001b[0m",
      "\u001b[1;31mKeyboardInterrupt\u001b[0m                         Traceback (most recent call last)",
      "Cell \u001b[1;32mIn[2], line 7\u001b[0m\n\u001b[0;32m      5\u001b[0m tablero \u001b[38;5;241m=\u001b[39m[\u001b[38;5;124m\"\u001b[39m\u001b[38;5;124ma1\u001b[39m\u001b[38;5;124m\"\u001b[39m,\u001b[38;5;124m\"\u001b[39m\u001b[38;5;124ma2\u001b[39m\u001b[38;5;124m\"\u001b[39m,\u001b[38;5;124m\"\u001b[39m\u001b[38;5;124ma3\u001b[39m\u001b[38;5;124m\"\u001b[39m, \u001b[38;5;124m\"\u001b[39m\u001b[38;5;124mb1\u001b[39m\u001b[38;5;124m\"\u001b[39m,\u001b[38;5;124m\"\u001b[39m\u001b[38;5;124mb2\u001b[39m\u001b[38;5;124m\"\u001b[39m,\u001b[38;5;124m\"\u001b[39m\u001b[38;5;124mb3\u001b[39m\u001b[38;5;124m\"\u001b[39m, \u001b[38;5;124m\"\u001b[39m\u001b[38;5;124mc1\u001b[39m\u001b[38;5;124m\"\u001b[39m,\u001b[38;5;124m\"\u001b[39m\u001b[38;5;124mc2\u001b[39m\u001b[38;5;124m\"\u001b[39m,\u001b[38;5;124m\"\u001b[39m\u001b[38;5;124mc3\u001b[39m\u001b[38;5;124m\"\u001b[39m]\n\u001b[0;32m      6\u001b[0m \u001b[38;5;28;01mfor\u001b[39;00m i \u001b[38;5;129;01min\u001b[39;00m casillas_jugadoras:\n\u001b[1;32m----> 7\u001b[0m     \u001b[38;5;28;01mfor\u001b[39;00m j \u001b[38;5;129;01min\u001b[39;00m i:\n\u001b[0;32m      8\u001b[0m         j \u001b[38;5;241m=\u001b[39m comprobacion_casilla(\u001b[38;5;28minput\u001b[39m(\u001b[38;5;124mf\u001b[39m\u001b[38;5;124m\"\u001b[39m\u001b[38;5;124mTúuuuuuuuuuuu, elige en qué casilla quieres poner tu ficha. Las opciones son \u001b[39m\u001b[38;5;132;01m{\u001b[39;00mtablero\u001b[38;5;132;01m}\u001b[39;00m\u001b[38;5;124m\"\u001b[39m)\u001b[38;5;241m.\u001b[39mlower()\u001b[38;5;241m.\u001b[39mstrip()) \u001b[38;5;66;03m#  4.1. La jugadora a la que le toque elige una casilla.\u001b[39;00m\n\u001b[0;32m      9\u001b[0m         tablero\u001b[38;5;241m.\u001b[39mremove(j)\n",
      "\u001b[1;31mKeyboardInterrupt\u001b[0m: "
     ]
    }
   ],
   "source": [
    "while True:\n",
    "    fichas_x= []\n",
    "    fichas_o = []\n",
    "    casillas_jugadoras = [fichas_x, fichas_o]\n",
    "    tablero =[\"a1\",\"a2\",\"a3\", \"b1\",\"b2\",\"b3\", \"c1\",\"c2\",\"c3\"]\n",
    "    for i in casillas_jugadoras:\n",
    "        for j in i:\n",
    "            j = comprobacion_casilla(input(f\"Túuuuuuuuuuuu, elige en qué casilla quieres poner tu ficha. Las opciones son {tablero}\").lower().strip()) #  4.1. La jugadora a la que le toque elige una casilla.\n",
    "            tablero.remove(j)\n",
    "            i.append(j)\n",
    "            if resultado(i)== True:\n",
    "                propuesta = input(\"Si quieres volver a jugar, presiona Enter. Si no, escribe 'salir' y presiona Enter\").lower().strip() == \"salir\":\n",
    "                if propuesta = print(\"¡Genial! Vamos a jugar otra vez.\")\n",
    "                    continue\n",
    "                else:\n",
    "                    print(\"Gracias por jugar, ¡hasta la próxima!\")\n",
    "                    break"
   ]
  }
 ],
 "metadata": {
  "kernelspec": {
   "display_name": "base",
   "language": "python",
   "name": "python3"
  },
  "language_info": {
   "codemirror_mode": {
    "name": "ipython",
    "version": 3
   },
   "file_extension": ".py",
   "mimetype": "text/x-python",
   "name": "python",
   "nbconvert_exporter": "python",
   "pygments_lexer": "ipython3",
   "version": "3.12.7"
  }
 },
 "nbformat": 4,
 "nbformat_minor": 5
}
