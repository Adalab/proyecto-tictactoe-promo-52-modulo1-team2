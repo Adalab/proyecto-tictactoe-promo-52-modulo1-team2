{
 "cells": [
  {
   "cell_type": "markdown",
   "metadata": {},
   "source": [
    "# Tres en raya"
   ]
  },
  {
   "cell_type": "markdown",
   "metadata": {},
   "source": [
    "## Datos de inicio: Nombres de las casillas y de las jugadoras"
   ]
  },
  {
   "cell_type": "code",
   "execution_count": 1,
   "metadata": {},
   "outputs": [
    {
     "name": "stdout",
     "output_type": "stream",
     "text": [
      "Las casillas del tablero son: ['a1', 'a2', 'a3', 'b1', 'b2', 'b3', 'c1', 'c2', 'c3']\n"
     ]
    }
   ],
   "source": [
    "#Nombro las casillas del TABLERO\n",
    "\n",
    "tablero = [\"a1\",\"a2\",\"a3\",\"b1\",\"b2\",\"b3\",\"c1\",\"c2\",\"c3\"]\n",
    "\n",
    "print(f\"Las casillas del tablero son: {tablero}\") #Compruebo los valores"
   ]
  },
  {
   "cell_type": "markdown",
   "metadata": {},
   "source": [
    "# GRUPO"
   ]
  },
  {
   "cell_type": "markdown",
   "metadata": {},
   "source": [
    "#### MEJORAS (FUTURO): Trabajar con matrices para crear una interfaz"
   ]
  },
  {
   "cell_type": "code",
   "execution_count": null,
   "metadata": {},
   "outputs": [],
   "source": [
    "#  Otra opción sería nombrar las casillas del tablero como una MATRIZ (pero por ahora no lo estamos utilizando)\n",
    "         \n",
    "#tablero=[[\"a1\",\"a2\",\"a3\"],\n",
    "         \n",
    "#         [\"b1\",\"b2\",\"b3\"],\n",
    "         \n",
    "#         [\"c1\",\"c2\",\"c3\"]]"
   ]
  },
  {
   "cell_type": "markdown",
   "metadata": {},
   "source": [
    "![alt text](posicion-casillas-del-tablero.png)"
   ]
  },
  {
   "cell_type": "code",
   "execution_count": 2,
   "metadata": {},
   "outputs": [
    {
     "name": "stdout",
     "output_type": "stream",
     "text": [
      "Julia juega con fichas de cruz y Carmen juega con fichas de círculo\n"
     ]
    }
   ],
   "source": [
    "#Identifico los nombres de las JUGADORAS\n",
    "\n",
    "jugadora_x = input(\"Tus fichas tienen forma de cruz. ¿Cómo te llamas?\")\n",
    "jugadora_o = input(\"Tus fichas tienen forma de círculo. ¿Cómo te llamas?\")\n",
    "\n",
    "print(f\"{jugadora_x} juega con fichas de cruz y {jugadora_o} juega con fichas de círculo\") #Compruebo los valores"
   ]
  },
  {
   "cell_type": "code",
   "execution_count": 3,
   "metadata": {},
   "outputs": [
    {
     "name": "stdout",
     "output_type": "stream",
     "text": [
      "Las casillas con cruces son: []\n",
      "Las casillas con círculos son: []\n"
     ]
    }
   ],
   "source": [
    "#Establezco una lista vacía para ir añadiendo más adelante las respuestas de cada jugadora según se vayan dando\n",
    "casillas_x = []\n",
    "casillas_o = []\n",
    "#casillas_x = {turno_x1:x1,turno_x2:x2,turno_x3:x3,turno_x4:x4,turno_x5:x5}\n",
    "#casillas_o = {turno_o1:o1,turno_o2:o2,turno_o3:o3,turno_o4:o4,turno_o5:o5}\n",
    "print(f\"Las casillas con cruces son: {casillas_x}\")\n",
    "print(f\"Las casillas con círculos son: {casillas_o}\")"
   ]
  },
  {
   "cell_type": "code",
   "execution_count": 4,
   "metadata": {},
   "outputs": [],
   "source": [
    "x1 = 1\n",
    "x2 = 2\n",
    "x3 = 3\n",
    "x4 = 4\n",
    "x5 = 5\n",
    "\n",
    "o1 = 10\n",
    "o2 = 20\n",
    "o3 = 30\n",
    "o4 = 40\n",
    "o5 = 50"
   ]
  },
  {
   "cell_type": "markdown",
   "metadata": {},
   "source": [
    "#### MEJORAS (TODAS): Posibilidad de introducir en un diccionario, una clase, lo que corresponda para las respuestas de los diferentes turnos"
   ]
  },
  {
   "cell_type": "code",
   "execution_count": 5,
   "metadata": {},
   "outputs": [],
   "source": [
    "#Defino una función para asegurarme de que la casilla que se ha elegido es una CASILLA VÁLIDA\n",
    "#Se considera que una casilla es válida cuando la jugadora en su input escribe correctamente \n",
    "# la posición de una casilla del tablero que esté libre\n",
    "\n",
    "def comprobacion_casilla(casilla_que_elijo):\n",
    "    while casilla_que_elijo not in tablero:\n",
    "        casilla_que_elijo=(input(\"\"\"¡Vaya! La casilla que has elegido no es correcta. \n",
    "                                 Puede ser que no esté bien escrita o que ya se haya elegido antes. \n",
    "                                 ¡Ánimo, tienes otra oportunidad!\"\"\"))\n",
    "    else:\n",
    "        print(f\"Has elegido la casilla {casilla_que_elijo}\")\n",
    "        return casilla_que_elijo\n",
    "        "
   ]
  },
  {
   "cell_type": "markdown",
   "metadata": {},
   "source": [
    "#### MEJORAS (INE): Añadir en el mensaje de vaya las casillas que puedes elegir"
   ]
  },
  {
   "cell_type": "code",
   "execution_count": null,
   "metadata": {},
   "outputs": [],
   "source": [
    "#Comprobación suelta\n",
    "# jugada_x1=comprobacion_casilla(input(\"Dime una casilla\"))"
   ]
  },
  {
   "cell_type": "markdown",
   "metadata": {},
   "source": [
    "#### MEJORAS (LUCÍA): Filtrar la comprobación dando una respuesta específica si el input tiene el formato correcto pero no está en el tablero o si es una palabra que no tiene nada que ver, etc"
   ]
  },
  {
   "cell_type": "code",
   "execution_count": null,
   "metadata": {},
   "outputs": [],
   "source": [
    "#Defino otra función para agrupar las acciones que se hacen en cada JUGADA\n",
    "\n",
    "def turno(jugadora,casilla_actual,casillas_jugadora):\n",
    "    casilla_actual = comprobacion_casilla(input(f\"{jugadora}, elige en qué casilla quieres poner tu ficha. Las opciones son {tablero}\").lower().strip()) # MEJORAS (INÉS):Eliminar los espacios directamente si se han introducido también en medio\n",
    "    tablero.remove(casilla_actual) \n",
    "    casillas_jugadora.append(casilla_actual)\n",
    "    print(f\"Recuerda: has elegido la casilla {casilla_actual}\") #Lo repito como comprobación, lo podemos quitar al final\n",
    "    print(f\"{jugadora} tiene sus fichas en estas casillas: {casillas_jugadora}\")\n",
    "    print(f\"Siguen libres las casillas: {tablero}\") \n",
    "    return casilla_actual, casillas_jugadora, tablero"
   ]
  },
  {
   "cell_type": "markdown",
   "metadata": {},
   "source": [
    "#### MEJORAS (INÉS): Eliminar los espacios directamente si se han introducido también en medio"
   ]
  },
  {
   "cell_type": "markdown",
   "metadata": {},
   "source": [
    "#### MEJORAS (ARANTXA):Añadir markdown explicando detalladamente la función"
   ]
  },
  {
   "cell_type": "markdown",
   "metadata": {},
   "source": [
    "#### MEJORAS OPCIONAL (⚠️DUDA): Mostrar las casillas donde están las posiciones de la otra jugadora en cada uno de los movimientos"
   ]
  },
  {
   "cell_type": "markdown",
   "metadata": {},
   "source": [
    "# SIGO"
   ]
  },
  {
   "cell_type": "code",
   "execution_count": 7,
   "metadata": {},
   "outputs": [
    {
     "name": "stdout",
     "output_type": "stream",
     "text": [
      "Has elegido la casilla b2\n",
      "Recuerda: has elegido la casilla b2\n",
      "Julia tiene sus fichas en estas casillas: ['b2']\n",
      "Siguen libres las casillas: ['a1', 'a2', 'a3', 'b1', 'b3', 'c1', 'c2', 'c3']\n"
     ]
    }
   ],
   "source": [
    "#Uso la función para la primera jugada\n",
    "turno_x1 = turno(jugadora_x,x1,casillas_x)"
   ]
  },
  {
   "cell_type": "code",
   "execution_count": null,
   "metadata": {},
   "outputs": [
    {
     "name": "stdout",
     "output_type": "stream",
     "text": [
      "Has elegido la casilla a1\n",
      "Recuerda: has elegido la casilla a1\n",
      "Carmen tiene sus fichas en estas casillas: ['a1']\n",
      "Siguen libres las casillas: ['a2', 'a3', 'b1', 'b3', 'c1', 'c2', 'c3']\n"
     ]
    }
   ],
   "source": [
    "#Y así en cada una de las jugadas\n",
    "\n",
    "#Pido por primera vez a la SEGUNDA jugadora que elija una casilla del tablero\n",
    "turno_o1 = turno(jugadora_o,o1,casillas_o)"
   ]
  },
  {
   "cell_type": "code",
   "execution_count": 10,
   "metadata": {},
   "outputs": [
    {
     "name": "stdout",
     "output_type": "stream",
     "text": [
      "Has elegido la casilla a3\n",
      "Recuerda: has elegido la casilla a3\n",
      "Julia tiene sus fichas en estas casillas: ['b2', 'a3']\n",
      "Siguen libres las casillas: ['a2', 'b1', 'b3', 'c1', 'c2', 'c3']\n"
     ]
    }
   ],
   "source": [
    "#SEGUNDO TURNO de la primera jugadora\n",
    "\n",
    "turno_x2 = turno(jugadora_x,x2,casillas_x)"
   ]
  },
  {
   "cell_type": "code",
   "execution_count": null,
   "metadata": {},
   "outputs": [],
   "source": [
    "#Segundo turno de la segunda jugadora\n",
    "\n",
    "turno_o2 = turno(jugadora_o,o2,casillas_o)"
   ]
  },
  {
   "cell_type": "code",
   "execution_count": null,
   "metadata": {},
   "outputs": [],
   "source": [
    "#TERCER TURNO de la primera jugadora\n",
    "\n",
    "turno_x3 = turno(jugadora_x,x3,casillas_x)"
   ]
  },
  {
   "cell_type": "code",
   "execution_count": null,
   "metadata": {},
   "outputs": [],
   "source": [
    "#Pido a la primera jugadora que elija una casilla del tablero\n",
    "\n",
    "\"\"\"x1 = comprobacion_casilla(input(f\"{x}{mensaje_principal}{tablero}\").lower().strip())\"\"\""
   ]
  },
  {
   "cell_type": "code",
   "execution_count": null,
   "metadata": {},
   "outputs": [],
   "source": [
    "#ELIMINO de las casillas a elegir en el tablero en las siguientes jugadas LA CASILLA que ha elegido la primera jugadora, porque ya está ocupada.\n",
    "\n",
    "\"\"\"tablero.remove(x1)\n",
    "casillas_x.append(x1)\n",
    "print(f\"Confirmo: has elegido la casilla {x1}\") #Lo repito como comprobación\n",
    "print(f\"Las fichas de {x} ocupan las siguientes casillas del tablero: {casillas_x}\")\n",
    "# Todavía no aplica esta línea porque o no ha empezado a jugar: print(f\"Las fichas de {o} ocupan las siguientes casillas del tablero: {casillas_o}\")\n",
    "print(f\"Siguen libres las siguientes casillas: {tablero}\")\"\"\""
   ]
  },
  {
   "cell_type": "code",
   "execution_count": null,
   "metadata": {},
   "outputs": [],
   "source": [
    "#Y así en cada una de las jugadas\n",
    "\n",
    "#Pido por primera vez a la SEGUNDA jugadora que elija una casilla del tablero\n",
    "\n",
    "\"\"\"o1 = comprobacion_casilla(input(f\"{o}{mensaje_principal}{tablero}\").lower().strip()) \n",
    "tablero.remove(o1) \n",
    "casillas_o.append(o1)\n",
    "print(f\"Confirmo: has elegido la casilla {o1}\")\n",
    "print(f\"Las fichas de {x} ocupan las siguientes casillas del tablero: {casillas_x}\")\n",
    "print(f\"Las fichas de {o} ocupan las siguientes casillas del tablero: {casillas_o}\")\n",
    "print(f\"Siguen libres las siguientes casillas: {tablero}\")\"\"\"\n"
   ]
  },
  {
   "cell_type": "markdown",
   "metadata": {},
   "source": [
    "### Criterio combinaciones ganadoras"
   ]
  },
  {
   "cell_type": "code",
   "execution_count": null,
   "metadata": {},
   "outputs": [],
   "source": [
    "contador_x = 0\n",
    "contador_y = 0\n",
    "\n",
    "#Raya horizontal\n",
    "if x1[0] == x2[0] == x3[0]: # ⚠️ ¿cómo poner directamente que cualquiera de las respuestas xn[0] son iguales?, algo como if x1[0] == xn[0]\n",
    "    x_gana=True\n",
    "    print(f\"Hay una raya horizontal, las casillas {casillas_x} del tablero tienen la misma letra.\")\n",
    "    \n",
    "    # ⚠️ Crear una función que repita esta parte después de cada combinación ganadora\n",
    "    print(f\"¡{x} ha ganado!\")\n",
    "    contador_x =+1\n",
    "    print(f\"Marcador: {x} lleva {contador_x} partidas ganadas. {o} lleva {contador_y} partidas ganadas.\")\n",
    "    print(\"¿Queréis volver a jugar? Contesta Sí / No\")\n",
    "    x_nueva_partida = input()\n",
    "    o_nueva_partida = input()\n",
    "    # if x_nueva_partida.lower() == \"sí\" and o_nueva_partida.lower() == \"sí\":\n",
    "        # ⚠️ Restart ¿Cómo se pondría? Meter todo dentro de un gran bucle\n",
    "\n",
    "#Raya vertical\n",
    "elif x1[1] == x2[1] == x3[1]: # ⚠️ ¿cómo poner directamente que cualquiera de las respuestas xn[1] son iguales?\n",
    "    x_gana=True\n",
    "    print(f\"Hay una raya vertical, las casillas del tablero {casillas_x} tienen el mismo número\")\n",
    "\n",
    "    \n",
    "\n",
    "\n",
    "# Raya diagonal\n",
    "# ⚠️ Para que fuera escalable, cómo se haría el valorar que el número o la letra fueran aumentando como algo así: x1== x1[1] == x2[1]+1 == x2[1]+2\n",
    "\n",
    "#🗑️Por ahora hago la opción no escalable:\n",
    "#Raya diagonal descendente:\n",
    "elif \"a1\" in casillas_x and \"b2\" in casillas_x and \"c3\" in casillas_x or \"c1\" in casillas_x and \"b2\" in casillas_x and \"a3\" in casillas_x:\n",
    "    x_gana=True\n",
    "    print(f\"Hay una raya diagonal descendente, las casillas del tablero {casillas_x} tienen letras y números correlativos\")\n",
    "# ⚠️ entender si and y or tienen que sumarse o son alternativos ¿se pueden agrupar con paréntesis para ordenarlos? ¿existiría and y or a la vez? si no funcionase el or, quitar esa segunda parte y poner elif \"c1\" in xxx and \"b2\" in xxx and \"a3\" in xxx: print(f\"Hay una raya diagonal ascendente, las casillas del tablero {xxx} tienen letras y números correlativos\")\n",
    "# elif (\"c1\",\"b2\",\"a3\") in xxx  ⚠️ aprender esta forma de poner bien que encuentre esos valores en el conjunto de respuestas para aprender esta opción de escribir también, ahora está mal hecho\n",
    "\n",
    "\n",
    "#Si todavía no ha conseguido ninguna de las rayas\n",
    "else:\n",
    "    print(\"Le toca a la siguiente jugadora\")"
   ]
  },
  {
   "cell_type": "markdown",
   "metadata": {},
   "source": [
    "### Ahora con la siguiente jugadora"
   ]
  },
  {
   "cell_type": "code",
   "execution_count": null,
   "metadata": {},
   "outputs": [],
   "source": [
    "#Raya horizontal\n",
    "if o1[0] == o2[0] == o3[0]: # ⚠️ ¿cómo poner directamente que cualquiera de las respuestas xn[0] son iguales?, algo como if x1[0] == xn[0]\n",
    "    o_gana=True\n",
    "    print(f\"Hay una raya horizontal, las casillas {casillas_o} del tablero tienen la misma letra\")\n",
    "\n",
    "#Raya vertical\n",
    "elif o1[1] == o2[1] == o3[1]: # ⚠️ ¿cómo poner directamente que cualquiera de las respuestas xn[1] son iguales?\n",
    "    o_gana=True\n",
    "    print(f\"Hay una raya vertical, las casillas del tablero {casillas_o} tienen el mismo número\")\n",
    "\n",
    "\n",
    "# Raya diagonal\n",
    "# ⚠️ Para que fuera escalable, cómo se haría el valorar que el número o la letra fueran aumentando como algo así: x1== x1[1] == x2[1]+1 == x2[1]+2\n",
    "\n",
    "#🗑️Por ahora hago la opción no escalable:\n",
    "#Raya diagonal descendente:\n",
    "elif \"a1\" in casillas_o and \"b2\" in casillas_o and \"c3\" in casillas_o or \"c1\" in casillas_o and \"b2\" in casillas_o and \"a3\" in casillas_o:\n",
    "    o_gana=True\n",
    "    print(f\"Hay una raya diagonal descendente, las casillas del tablero {casillas_o} tienen letras y números correlativos\")\n",
    "# ⚠️ entender si and y or tienen que sumarse o son alternativos ¿se pueden agrupar con paréntesis para ordenarlos? ¿existiría and y or a la vez? si no funcionase el or, quitar esa segunda parte y poner elif \"c1\" in xxx and \"b2\" in xxx and \"a3\" in xxx: print(f\"Hay una raya diagonal ascendente, las casillas del tablero {xxx} tienen letras y números correlativos\")\n",
    "# elif (\"c1\",\"b2\",\"a3\") in xxx  ⚠️ aprender esta forma de poner bien que encuentre esos valores en el conjunto de respuestas para aprender esta opción de escribir también, ahora está mal hecho\n",
    "\n",
    "\n",
    "#Si todavía no ha conseguido ninguna de las rayas\n",
    "else:\n",
    "    print(\"Le toca a la siguiente jugadora\")"
   ]
  },
  {
   "cell_type": "markdown",
   "metadata": {},
   "source": [
    "### Si no se ha ganado, continuar con las jugadas y comprobando"
   ]
  },
  {
   "cell_type": "code",
   "execution_count": null,
   "metadata": {},
   "outputs": [],
   "source": [
    "#Tercer turno de la segunda jugadora\n",
    "\n",
    "turno_o3 = turno(jugadora_o,o3,casillas_o)"
   ]
  },
  {
   "cell_type": "markdown",
   "metadata": {},
   "source": [
    "⚠️\n",
    "**SE PODRÍA HACER OTRA VERSIÓN DEL JUEGO EN LA QUE LAS FICHAS SE MOVIERAN** ENTONCES EL TABLERO NO SE COMPLETARÍA SINO QUE SIEMPRE HABRÍA COMO MÁXIMO 6 FICHAS"
   ]
  },
  {
   "cell_type": "markdown",
   "metadata": {},
   "source": [
    "DECIDIR SI LIMITAR LOS MOVIMIENTOS A 1 CASILLA DE DISTANCIA Y DECIDIR SI SE PODRÍA MOVER EN DIAGONAL O NO"
   ]
  },
  {
   "cell_type": "code",
   "execution_count": null,
   "metadata": {},
   "outputs": [],
   "source": [
    "#CUARTO TURNO de la primera jugadora\n",
    "\n",
    "turno_x4 = turno(jugadora_x,x4,casillas_x)"
   ]
  },
  {
   "cell_type": "code",
   "execution_count": null,
   "metadata": {},
   "outputs": [],
   "source": [
    "#Cuarto turno de la segunda jugadora\n",
    "\n",
    "turno_o4 = turno(jugadora_o,o4,casillas_o)"
   ]
  },
  {
   "cell_type": "code",
   "execution_count": null,
   "metadata": {},
   "outputs": [],
   "source": [
    "#QUINTO TURNO de la primera jugadora\n",
    "\n",
    "turno_x5 = turno(jugadora_x,x5,casillas_x)"
   ]
  },
  {
   "cell_type": "markdown",
   "metadata": {},
   "source": [
    "**ya se ha llenado el tablero, si no gana nadie, añadir mensaje de que el juego ha terminado y nadie lo ha conseguido y si se quiere volver a jugar**"
   ]
  }
 ],
 "metadata": {
  "kernelspec": {
   "display_name": "base",
   "language": "python",
   "name": "python3"
  },
  "language_info": {
   "codemirror_mode": {
    "name": "ipython",
    "version": 3
   },
   "file_extension": ".py",
   "mimetype": "text/x-python",
   "name": "python",
   "nbconvert_exporter": "python",
   "pygments_lexer": "ipython3",
   "version": "3.12.7"
  }
 },
 "nbformat": 4,
 "nbformat_minor": 2
}
