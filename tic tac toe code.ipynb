{
 "cells": [
  {
   "cell_type": "markdown",
   "metadata": {},
   "source": [
    "# Tres en raya"
   ]
  },
  {
   "cell_type": "markdown",
   "metadata": {},
   "source": [
    "## Datos de inicio: Nombres de las casillas y de las jugadoras"
   ]
  },
  {
   "cell_type": "code",
   "execution_count": null,
   "metadata": {},
   "outputs": [],
   "source": [
    "#Nombro las casillas del TABLERO\n",
    "\n",
    "tablero=[\"a1\",\"a2\",\"a3\",\"b1\",\"b2\",\"b3\",\"c1\",\"c2\",\"c3\"]\n",
    "\n",
    "print(f\"Las casillas del tablero son: {tablero}\") #Compruebo los valores"
   ]
  },
  {
   "cell_type": "code",
   "execution_count": null,
   "metadata": {},
   "outputs": [],
   "source": [
    "#Identifico los nombres de las JUGADORAS\n",
    "\n",
    "m0=\"Introduce el nombre de la jugadora que tiene fichas tipo \"\n",
    "x=input(f\"{m0}X\")\n",
    "o=input(f\"{m0}O\")\n",
    "\n",
    "print(f\"La jugadora con fichas tipo X se llama {x} y la jugadora con fechas tipo O se llama {o}\") #Compruebo los valores"
   ]
  },
  {
   "cell_type": "markdown",
   "metadata": {},
   "source": [
    "## Jugadas"
   ]
  },
  {
   "cell_type": "markdown",
   "metadata": {},
   "source": [
    "⚠️**FALTA AÑADIR QUE CONVIERTA LA RESPUESTA DEL INPUT EN .lower Y QUE SI NO ELIGE ENTRE LAS OPCIONES DISPONIBLES REPITA LA PREGUNTA**"
   ]
  },
  {
   "cell_type": "code",
   "execution_count": null,
   "metadata": {},
   "outputs": [],
   "source": [
    "#Mensaje principal a lo largo del juego\n",
    "mp=f\", elige en qué casilla quieres poner tu ficha. Las opciones son {tablero}\"\n",
    "\n",
    "x1=input(f\"{x}{mp}\") #Pido a la primera jugadora que elija una casilla del tablero\n",
    "tablero.remove(x1) #ELIMINO de las casillas a elegir en el tablero en las siguientes jugadas LA CASILLA que ha elegido la primera jugadora, porque ya está ocupada.\n",
    "\n",
    "print(f\"{x} ha elegido poner su ficha en la casilla {x1}. Las casillas que quedan libres en el tablero son: {tablero}\") #Compruebo los valores"
   ]
  },
  {
   "cell_type": "code",
   "execution_count": null,
   "metadata": {},
   "outputs": [],
   "source": [
    "#Y así en cada una de las jugadas\n",
    "\n",
    "o1=input(f\"{o}{mp}\") #Pido por primera vez a la SEGUNDA jugadora que elija una casilla del tablero\n",
    "tablero.remove(o1) \n",
    "\n",
    "x2=input(f\"{x}{mp}\") #SEGUNDO TURNO de la primera jugadora\n",
    "tablero.remove(x2)\n",
    "\n",
    "o2=input(f\"{o}{mp}\") #Segundo turno de la segunda jugadora\n",
    "tablero.remove(o2)\n",
    "\n",
    "x3=input(f\"{x}{mp}\") #TERCER TURNO de la primera jugadora\n",
    "tablero.remove(x3)\n",
    "\n",
    "print(f\"{o} ha elegido poner sus fichas en las casillas {o1} y {o2}. {x} ha elegido poner sus fichas en las casillas {x2} y {x3}.\") #Compruebo los valores\n",
    "print(f\"Las casillas que quedan libres en el tablero son: {tablero}\") #Compruebo los valores"
   ]
  },
  {
   "cell_type": "markdown",
   "metadata": {},
   "source": [
    "## Comprobar si ya se ha ganado"
   ]
  },
  {
   "cell_type": "markdown",
   "metadata": {},
   "source": [
    "### Agrupar las respuestas de la jugadora para poder analizarla en conjunto"
   ]
  },
  {
   "cell_type": "code",
   "execution_count": 30,
   "metadata": {},
   "outputs": [
    {
     "name": "stdout",
     "output_type": "stream",
     "text": [
      "{'a3', 'a2', 'a1'}\n"
     ]
    }
   ],
   "source": [
    "#La primera jugadora ya ha puesto tres fichas y podría haber ganado, lo compruebo. Miro cuáles eran todas las respuestas de la jugadora\n",
    "xxx={x1,x2,x3}\n",
    "print(xxx)"
   ]
  },
  {
   "cell_type": "markdown",
   "metadata": {},
   "source": [
    "### Criterio combinaciones ganadoras"
   ]
  },
  {
   "cell_type": "code",
   "execution_count": 31,
   "metadata": {},
   "outputs": [
    {
     "name": "stdout",
     "output_type": "stream",
     "text": [
      "Hay una raya horizontal, las casillas {'a3', 'a2', 'a1'} del tablero tienen la misma letra\n"
     ]
    }
   ],
   "source": [
    "#Raya horizontal\n",
    "if x1[0] == x2[0] == x3[0]: # ⚠️ ¿cómo poner directamente que cualquiera de las respuestas xn[0] son iguales?, algo como if x1[0] == xn[0]\n",
    "    xw=True\n",
    "    print(f\"Hay una raya horizontal, las casillas {xxx} del tablero tienen la misma letra\")\n",
    "\n",
    "#Raya vertical\n",
    "elif x1[1] == x2[1] == x3[1]: # ⚠️ ¿cómo poner directamente que cualquiera de las respuestas xn[1] son iguales?\n",
    "    xw=True\n",
    "    print(f\"Hay una raya vertical, las casillas del tablero {xxx} tienen el mismo número\")\n",
    "\n",
    "\n",
    "# Raya diagonal\n",
    "# ⚠️ Para que fuera escalable, cómo se haría el valorar que el número o la letra fueran aumentando como algo así: x1== x1[1] == x2[1]+1 == x2[1]+2\n",
    "\n",
    "#🗑️Por ahora hago la opción no escalable:\n",
    "#Raya diagonal descendente:\n",
    "elif \"a1\" in xxx and \"b2\" in xxx and \"c3\" in xxx or \"c1\" in xxx and \"b2\" in xxx and \"a3\" in xxx:\n",
    "    xw=True\n",
    "    print(f\"Hay una raya diagonal descendente, las casillas del tablero {xxx} tienen letras y números correlativos\")\n",
    "# ⚠️ entender si and y or tienen que sumarse o son alternativos ¿se pueden agrupar con paréntesis para ordenarlos? ¿existiría and y or a la vez? si no funcionase el or, quitar esa segunda parte y poner elif \"c1\" in xxx and \"b2\" in xxx and \"a3\" in xxx: print(f\"Hay una raya diagonal ascendente, las casillas del tablero {xxx} tienen letras y números correlativos\")\n",
    "# elif (\"c1\",\"b2\",\"a3\") in xxx  ⚠️ aprender esta forma de poner bien que encuentre esos valores en el conjunto de respuestas para aprender esta opción de escribir también, ahora está mal hecho\n",
    "\n",
    "\n",
    "#Si todavía no ha conseguido ninguna de las rayas\n",
    "else:\n",
    "    print(\"Le toca a la siguiente jugadora\")"
   ]
  },
  {
   "cell_type": "markdown",
   "metadata": {},
   "source": [
    "#### Otra opción para comprobar si la combinación es ganadora, contando"
   ]
  },
  {
   "cell_type": "code",
   "execution_count": 32,
   "metadata": {},
   "outputs": [
    {
     "ename": "AttributeError",
     "evalue": "'set' object has no attribute 'count'",
     "output_type": "error",
     "traceback": [
      "\u001b[1;31m---------------------------------------------------------------------------\u001b[0m",
      "\u001b[1;31mAttributeError\u001b[0m                            Traceback (most recent call last)",
      "Cell \u001b[1;32mIn[32], line 1\u001b[0m\n\u001b[1;32m----> 1\u001b[0m xxx\u001b[38;5;241m.\u001b[39mcount(\u001b[38;5;124m\"\u001b[39m\u001b[38;5;124ma\u001b[39m\u001b[38;5;124m\"\u001b[39m)\n",
      "\u001b[1;31mAttributeError\u001b[0m: 'set' object has no attribute 'count'"
     ]
    }
   ],
   "source": [
    "xxx.count(\"a\") \n",
    "\n",
    "# ⚠️ esto no me cuenta las \"a\" dentro de los elementos así que pruebo con una versión más larga en la siguiente celda"
   ]
  },
  {
   "cell_type": "code",
   "execution_count": null,
   "metadata": {},
   "outputs": [],
   "source": [
    "xxx_count = x1.count(\"a\") + x2.count(\"a\") + x3.count(\"a\") \n",
    "print(xxx_count)\n",
    "\n",
    "# 🗑️ Lo pongo así porque xxx.count(\"a\") no me funciona, me busca solamente si coincide exactamente con uno de los valores en vez de buscar dentro de las distintas cadenas cuando en la variable hay varios elementos"
   ]
  },
  {
   "cell_type": "code",
   "execution_count": null,
   "metadata": {},
   "outputs": [],
   "source": [
    "#La primera jugadora ya ha puesto tres fichas y podría haber ganado, lo compruebo\n",
    "if xxx.count(\"a\")==3 or xxx.count(\"b\")==3 or xxx.count(\"c\")==3 or xxx.count(\"1\")==3 or xxx.count(\"2\")==3 or xxx.count(\"3\")==3:\n",
    "    print(\"¡{x} ha ganado!\")"
   ]
  },
  {
   "cell_type": "markdown",
   "metadata": {},
   "source": [
    "### Ahora con la siguiente jugadora"
   ]
  },
  {
   "cell_type": "code",
   "execution_count": null,
   "metadata": {},
   "outputs": [],
   "source": [
    "#Raya horizontal\n",
    "if o1[0] == o2[0] == o3[0]: # ⚠️ ¿cómo poner directamente que cualquiera de las respuestas xn[0] son iguales?, algo como if x1[0] == xn[0]\n",
    "    ow=True\n",
    "    print(f\"Hay una raya horizontal, las casillas {ooo} del tablero tienen la misma letra\")\n",
    "\n",
    "#Raya vertical\n",
    "elif o1[1] == o2[1] == o3[1]: # ⚠️ ¿cómo poner directamente que cualquiera de las respuestas xn[1] son iguales?\n",
    "    ow=True\n",
    "    print(f\"Hay una raya vertical, las casillas del tablero {ooo} tienen el mismo número\")\n",
    "\n",
    "\n",
    "# Raya diagonal\n",
    "# ⚠️ Para que fuera escalable, cómo se haría el valorar que el número o la letra fueran aumentando como algo así: x1== x1[1] == x2[1]+1 == x2[1]+2\n",
    "\n",
    "#🗑️Por ahora hago la opción no escalable:\n",
    "#Raya diagonal descendente:\n",
    "elif \"a1\" in ooo and \"b2\" in ooo and \"c3\" in ooo or \"c1\" in ooo and \"b2\" in ooo and \"a3\" in ooo:\n",
    "    ow=True\n",
    "    print(f\"Hay una raya diagonal descendente, las casillas del tablero {ooo} tienen letras y números correlativos\")\n",
    "# ⚠️ entender si and y or tienen que sumarse o son alternativos ¿se pueden agrupar con paréntesis para ordenarlos? ¿existiría and y or a la vez? si no funcionase el or, quitar esa segunda parte y poner elif \"c1\" in xxx and \"b2\" in xxx and \"a3\" in xxx: print(f\"Hay una raya diagonal ascendente, las casillas del tablero {xxx} tienen letras y números correlativos\")\n",
    "# elif (\"c1\",\"b2\",\"a3\") in xxx  ⚠️ aprender esta forma de poner bien que encuentre esos valores en el conjunto de respuestas para aprender esta opción de escribir también, ahora está mal hecho\n",
    "\n",
    "\n",
    "#Si todavía no ha conseguido ninguna de las rayas\n",
    "else:\n",
    "    print(\"Le toca a la siguiente jugadora\")"
   ]
  },
  {
   "cell_type": "markdown",
   "metadata": {},
   "source": [
    "### Si ya se ha ganado ver si volver a empezar"
   ]
  },
  {
   "cell_type": "code",
   "execution_count": null,
   "metadata": {},
   "outputs": [],
   "source": [
    "\n",
    "if \n",
    "    print(\"¿Queréis volver a jugar? Contesta Sí/No\")\n",
    "    x_otrajugadaotravez=\n",
    "    \n",
    "else:\n",
    "    print()"
   ]
  },
  {
   "cell_type": "markdown",
   "metadata": {},
   "source": [
    "### Si no se ha ganado, continuar con las jugadas y comprobando"
   ]
  },
  {
   "cell_type": "code",
   "execution_count": null,
   "metadata": {},
   "outputs": [],
   "source": [
    "\n",
    "o3=input(f\"{o}{mp}\")\n",
    "tablero.remove(o3)"
   ]
  },
  {
   "cell_type": "code",
   "execution_count": null,
   "metadata": {},
   "outputs": [],
   "source": [
    "ooo=(o1,o2,o3)"
   ]
  },
  {
   "cell_type": "markdown",
   "metadata": {},
   "source": [
    "⚠️\n",
    "**SE PODRÍA HACER OTRA VERSIÓN DEL JUEGO EN LA QUE LAS FICHAS SE MOVIERAN** ENTONCES EL TABLERO NO SE COMPLETARÍA SINO QUE SIEMPRE HABRÍA COMO MÁXIMO 6 FICHAS"
   ]
  },
  {
   "cell_type": "markdown",
   "metadata": {},
   "source": [
    "DECIDIR SI LIMITAR LOS MOVIMIENTOS A 1 CASILLA DE DISTANCIA Y DECIDIR SI SE PODRÍA MOVER EN DIAGONAL O NO"
   ]
  },
  {
   "cell_type": "code",
   "execution_count": null,
   "metadata": {},
   "outputs": [],
   "source": [
    "x4=input(f\"Le toca a {x}. Las opciones son {tablero}\")\n",
    "tablero.remove(x4)\n",
    "xxx=x.add(x4)\n",
    "\n",
    "o4=input(f\"Le toca a {o}. Las opciones son {tablero}\")\n",
    "tablero.remove(o4)\n",
    "ooo=ooo.add(o4)\n",
    "\n",
    "x5=input(f\"Le toca a {x}. Ya sólo te queda la opción {tablero}\")\n",
    "xxx=x.add(x5) "
   ]
  },
  {
   "cell_type": "markdown",
   "metadata": {},
   "source": [
    "**ya se ha llenado el tablero, si no gana nadie, añadir mensaje de que el juego ha terminado y nadie lo ha conseguido**"
   ]
  }
 ],
 "metadata": {
  "kernelspec": {
   "display_name": "base",
   "language": "python",
   "name": "python3"
  },
  "language_info": {
   "codemirror_mode": {
    "name": "ipython",
    "version": 3
   },
   "file_extension": ".py",
   "mimetype": "text/x-python",
   "name": "python",
   "nbconvert_exporter": "python",
   "pygments_lexer": "ipython3",
   "version": "3.12.7"
  }
 },
 "nbformat": 4,
 "nbformat_minor": 2
}
